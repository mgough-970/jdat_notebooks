{
 "cells": [
  {
   "cell_type": "markdown",
   "metadata": {},
   "source": [
    "# WFSS Spectra Part 1: Combine and Normalize 1D Spectra"
   ]
  },
  {
   "cell_type": "markdown",
   "metadata": {},
   "source": [
    "**Use case:** optimal extraction of grism spectra; redshift measurement; emission-line maps.  Simplified version of [JDox Science Use Case # 33](https://jwst-docs.stsci.edu/near-infrared-imager-and-slitless-spectrograph/niriss-example-science-programs/niriss-wfss-with-nircam-parallel-imaging-of-galaxies-in-lensing-clusters).<br>\n",
    "**Data:** JWST simulated NIRISS images from [MIRAGE](https://jwst-docs.stsci.edu/jwst-other-tools/mirage-data-simulator), run through the [JWST calibration pipeline](https://jwst-pipeline.readthedocs.io/en/latest/); galaxy cluster.<br>\n",
    "**Tools:**  specutils, astropy, pandas, emcee, lmfit, corner, h5py.<br>\n",
    "**Cross-intrument:** NIRSpec <br>\n",
    "**Documentation:** This notebook is part of a STScI's larger [post-pipeline Data Analysis Tools Ecosystem](https://jwst-docs.stsci.edu/jwst-post-pipeline-data-analysis).<br>\n",
    "\n",
    "\n",
    "## Introduction\n",
    "\n",
    "This notebook is 2 of 4 in a set focusing on NIRISS WFSS data:\n",
    "    1. 1D optimal extraction since the JWST pipeline only provides a box extraction.  Optimal extraction improves S/N of spectra for faint sources.\n",
    "    2. Combine and normalize 1D spectra.\n",
    "    3. Cross correlate galaxy with template to get redshift.\n",
    "    4. Spatially resolved emission line map.\n",
    "    \n",
    "This notebook will first combine optimally extracted 1D spectra (from #1) at different dither positions.  The combined spectrum will then be normalized by flux estimated from direct images (i.e. broadband photometry).\n",
    "\n",
    "This notebook will start with an optimally extracted 1D spectrum in the previous notebook, saved in a file with a name similar to \"l3_nis_f115w_G150C_s00002_ndither0_1d_opt.fits\".  The various one-dimensional spectra from each dither will be combined and saved into a single file, named like \"l3_nis_f115w_G150C_s00004_combine_1d_opt.fits\". \n",
    "\n",
    "**Note:** The procedure is not intended to combine spectra from the two different orientations (C&R), as each has a different spectral resolution depending on source morphology.\n",
    "\n",
    "**Note:** Normalization of grism spectrum to each broadband filter photometry will improve zeropoint calibration, which is critical in continuum fitting over multiple filters."
   ]
  },
  {
   "cell_type": "code",
   "execution_count": 1,
   "metadata": {
    "execution": {
     "iopub.execute_input": "2025-07-11T17:59:28.464572Z",
     "iopub.status.busy": "2025-07-11T17:59:28.464389Z",
     "iopub.status.idle": "2025-07-11T17:59:28.822563Z",
     "shell.execute_reply": "2025-07-11T17:59:28.821972Z"
    }
   },
   "outputs": [],
   "source": [
    "%matplotlib inline"
   ]
  },
  {
   "cell_type": "code",
   "execution_count": 2,
   "metadata": {
    "execution": {
     "iopub.execute_input": "2025-07-11T17:59:28.824703Z",
     "iopub.status.busy": "2025-07-11T17:59:28.824454Z",
     "iopub.status.idle": "2025-07-11T17:59:29.506295Z",
     "shell.execute_reply": "2025-07-11T17:59:29.505717Z"
    }
   },
   "outputs": [
    {
     "name": "stdout",
     "output_type": "stream",
     "text": [
      "astropy 7.1.0\n"
     ]
    }
   ],
   "source": [
    "import os\n",
    "import numpy as np\n",
    "from scipy.integrate import simpson\n",
    "from urllib.request import urlretrieve\n",
    "import tarfile\n",
    "\n",
    "from astropy.io import fits\n",
    "import astropy.units as u\n",
    "from astropy.io import ascii\n",
    "\n",
    "import astropy\n",
    "print('astropy', astropy.__version__)"
   ]
  },
  {
   "cell_type": "code",
   "execution_count": 3,
   "metadata": {
    "execution": {
     "iopub.execute_input": "2025-07-11T17:59:29.534107Z",
     "iopub.status.busy": "2025-07-11T17:59:29.533558Z",
     "iopub.status.idle": "2025-07-11T17:59:29.539369Z",
     "shell.execute_reply": "2025-07-11T17:59:29.538955Z"
    }
   },
   "outputs": [],
   "source": [
    "import matplotlib.pyplot as plt\n",
    "import matplotlib as mpl\n",
    "\n",
    "# These gymnastics are needed to make the sizes of the figures\n",
    "# be the same in both the inline and notebook versions\n",
    "%config InlineBackend.print_figure_kwargs = {'bbox_inches': None}\n",
    "\n",
    "mpl.rcParams['savefig.dpi'] = 80\n",
    "mpl.rcParams['figure.dpi'] = 80"
   ]
  },
  {
   "cell_type": "code",
   "execution_count": 4,
   "metadata": {
    "execution": {
     "iopub.execute_input": "2025-07-11T17:59:29.541243Z",
     "iopub.status.busy": "2025-07-11T17:59:29.540789Z",
     "iopub.status.idle": "2025-07-11T17:59:29.941019Z",
     "shell.execute_reply": "2025-07-11T17:59:29.940462Z"
    }
   },
   "outputs": [
    {
     "name": "stdout",
     "output_type": "stream",
     "text": [
      "Specutils:  2.0.0\n"
     ]
    }
   ],
   "source": [
    "import specutils\n",
    "from specutils import Spectrum\n",
    "from astropy.nddata import StdDevUncertainty\n",
    "\n",
    "print(\"Specutils: \", specutils.__version__)"
   ]
  },
  {
   "cell_type": "markdown",
   "metadata": {},
   "source": [
    "### 0. Download notebook 01 products\n",
    "These can be also obtained by running the notebooks."
   ]
  },
  {
   "cell_type": "code",
   "execution_count": 5,
   "metadata": {
    "execution": {
     "iopub.execute_input": "2025-07-11T17:59:29.942771Z",
     "iopub.status.busy": "2025-07-11T17:59:29.942492Z",
     "iopub.status.idle": "2025-07-11T17:59:29.946262Z",
     "shell.execute_reply": "2025-07-11T17:59:29.945839Z"
    }
   },
   "outputs": [
    {
     "name": "stdout",
     "output_type": "stream",
     "text": [
      "Already exists\n"
     ]
    }
   ],
   "source": [
    "if not os.path.exists('./output'):\n",
    "    import zipfile\n",
    "    import urllib.request\n",
    "    boxlink = 'https://data.science.stsci.edu/redirect/JWST/jwst-data_analysis_tools/NIRISS_lensing_cluster/output.zip'\n",
    "    boxfile = './output.zip'\n",
    "    urllib.request.urlretrieve(boxlink, boxfile)\n",
    "    zf = zipfile.ZipFile(boxfile, 'r')\n",
    "    list_names = zf.namelist()\n",
    "    for item in list_names:\n",
    "        zf.extract(member=item) # Using extract instead of extractall because it is safer when files have absolute (/) or relative (..) paths\n",
    "else:\n",
    "    print('Already exists')"
   ]
  },
  {
   "cell_type": "code",
   "execution_count": 6,
   "metadata": {
    "execution": {
     "iopub.execute_input": "2025-07-11T17:59:29.947673Z",
     "iopub.status.busy": "2025-07-11T17:59:29.947495Z",
     "iopub.status.idle": "2025-07-11T17:59:29.950109Z",
     "shell.execute_reply": "2025-07-11T17:59:29.949703Z"
    }
   },
   "outputs": [],
   "source": [
    "# Which data set?;\n",
    "DIR_OUT = './output/'\n",
    "filt = 'f200w'\n",
    "grism = 'G150C'\n",
    "id = '00004'\n",
    "ndither = 2 # Number of dithering positions."
   ]
  },
  {
   "cell_type": "markdown",
   "metadata": {},
   "source": [
    "### 1.Combine spectra from different dithers;"
   ]
  },
  {
   "cell_type": "code",
   "execution_count": 7,
   "metadata": {
    "execution": {
     "iopub.execute_input": "2025-07-11T17:59:29.951491Z",
     "iopub.status.busy": "2025-07-11T17:59:29.951349Z",
     "iopub.status.idle": "2025-07-11T17:59:29.960310Z",
     "shell.execute_reply": "2025-07-11T17:59:29.959923Z"
    }
   },
   "outputs": [],
   "source": [
    "dithers = np.arange(0, ndither, 1)\n",
    "for dither in dithers:\n",
    "    file_1d = f'{DIR_OUT}l3_nis_{filt}_{grism}_s{id}_ndither{dither}_1d_opt.fits'\n",
    "    fd = fits.open(file_1d)[1].data\n",
    "    if dither == 0:\n",
    "        wave = fd['wavelength']\n",
    "        flux = np.zeros((ndither, len(wave)), 'float')\n",
    "        flux_err = np.zeros((ndither, len(wave)), 'float')\n",
    "        flux[dither, :] = fd['flux']\n",
    "        flux_err[dither, :] = fd['uncertainty']\n",
    "    else:\n",
    "        wave_tmp = fd['wavelength']\n",
    "        flux_tmp = fd['flux']\n",
    "        flux_err_tmp = fd['uncertainty']\n",
    "        \n",
    "        flux[dither, :] = np.interp(wave, wave_tmp, flux_tmp)\n",
    "        flux_err[dither, :] = np.sqrt(np.interp(wave, wave_tmp, flux_err_tmp[:]**2))"
   ]
  },
  {
   "cell_type": "code",
   "execution_count": 8,
   "metadata": {
    "execution": {
     "iopub.execute_input": "2025-07-11T17:59:29.961921Z",
     "iopub.status.busy": "2025-07-11T17:59:29.961546Z",
     "iopub.status.idle": "2025-07-11T17:59:30.036849Z",
     "shell.execute_reply": "2025-07-11T17:59:30.036340Z"
    }
   },
   "outputs": [
    {
     "data": {
      "text/plain": [
       "<matplotlib.legend.Legend at 0x7fac009d40d0>"
      ]
     },
     "execution_count": 8,
     "metadata": {},
     "output_type": "execute_result"
    },
    {
     "data": {
      "image/png": "[encoded data removed]",
      "text/plain": [
       "<Figure size 512x384 with 1 Axes>"
      ]
     },
     "metadata": {},
     "output_type": "display_data"
    }
   ],
   "source": [
    "plt.plot(wave, flux[0, :], color='r', label='dither1')\n",
    "plt.plot(wave, flux[1, :], color='b', label='dither2')\n",
    "plt.legend(loc=2)"
   ]
  },
  {
   "cell_type": "markdown",
   "metadata": {},
   "source": [
    "### Make weighted-average of the two spectra from different dither positions;"
   ]
  },
  {
   "cell_type": "code",
   "execution_count": 9,
   "metadata": {
    "execution": {
     "iopub.execute_input": "2025-07-11T17:59:30.038435Z",
     "iopub.status.busy": "2025-07-11T17:59:30.038279Z",
     "iopub.status.idle": "2025-07-11T17:59:30.115883Z",
     "shell.execute_reply": "2025-07-11T17:59:30.115350Z"
    }
   },
   "outputs": [
    {
     "data": {
      "text/plain": [
       "<matplotlib.legend.Legend at 0x7fabb69b8090>"
      ]
     },
     "execution_count": 9,
     "metadata": {},
     "output_type": "execute_result"
    },
    {
     "data": {
      "image/png": "[encoded data removed]",
      "text/plain": [
       "<Figure size 512x384 with 1 Axes>"
      ]
     },
     "metadata": {},
     "output_type": "display_data"
    }
   ],
   "source": [
    "flux_combine = np.zeros(len(wave), 'float')\n",
    "flux_err_combine = np.zeros(len(wave), 'float')\n",
    "\n",
    "for ii in range(len(wave)):\n",
    "    flux_combine[ii] = np.sum(flux[:, ii] * 1 / flux_err[:, ii]**2) / np.sum(1 / flux_err[:, ii]**2) \n",
    "    flux_err_combine[ii] = np.sqrt(np.sum(flux_err[:, ii]**2)) / len(flux_err[:, ii])\n",
    "\n",
    "plt.plot(wave, flux[0, :], color='gray', label='dither1')\n",
    "plt.plot(wave, flux[1, :], color='gray', label='dither2')\n",
    "plt.plot(wave, flux_combine[:], color='r', label='Combined')\n",
    "plt.legend(loc=2)"
   ]
  },
  {
   "cell_type": "markdown",
   "metadata": {},
   "source": [
    "### 2.Continuum normalization;\n",
    "Since NIRISS spectra may be affected background subtraction & contamination, which could lead to mismatch between filters, here we aim to normaliza spectra from filter to its broadband magnitude."
   ]
  },
  {
   "cell_type": "code",
   "execution_count": 10,
   "metadata": {
    "execution": {
     "iopub.execute_input": "2025-07-11T17:59:30.117598Z",
     "iopub.status.busy": "2025-07-11T17:59:30.117416Z",
     "iopub.status.idle": "2025-07-11T17:59:30.128630Z",
     "shell.execute_reply": "2025-07-11T17:59:30.128108Z"
    }
   },
   "outputs": [
    {
     "data": {
      "text/html": [
       "<div><i>Table length=7</i>\n",
       "<table id=\"table140375481219600\" class=\"table-striped table-bordered table-condensed\">\n",
       "<thead><tr><th>id</th><th>F309</th><th>E309</th><th>F310</th><th>E310</th><th>F311</th><th>E311</th><th>F308</th><th>E308</th><th>F1</th><th>E1</th><th>F4</th><th>E4</th><th>F6</th><th>E6</th><th>F202</th><th>E202</th><th>F203</th><th>E203</th><th>F204</th><th>E204</th><th>F205</th><th>E205</th></tr></thead>\n",
       "<thead><tr><th>int64</th><th>float64</th><th>float64</th><th>float64</th><th>float64</th><th>float64</th><th>float64</th><th>float64</th><th>float64</th><th>float64</th><th>float64</th><th>float64</th><th>float64</th><th>float64</th><th>float64</th><th>float64</th><th>float64</th><th>float64</th><th>float64</th><th>float64</th><th>float64</th><th>float64</th><th>float64</th></tr></thead>\n",
       "<tr><td>1</td><td>4.17638</td><td>0.208819</td><td>13.9316</td><td>0.696578</td><td>15.8489</td><td>0.792447</td><td>2.39883</td><td>0.119942</td><td>0.29134</td><td>0.014567</td><td>1.45747</td><td>0.0728736</td><td>2.22433</td><td>0.111217</td><td>3.49623</td><td>0.174812</td><td>6.11505</td><td>0.305752</td><td>10.5682</td><td>0.528409</td><td>14.9279</td><td>0.746397</td></tr>\n",
       "<tr><td>2</td><td>4.17638</td><td>0.208819</td><td>13.9316</td><td>0.696578</td><td>15.8489</td><td>0.792447</td><td>2.39883</td><td>0.119942</td><td>0.29134</td><td>0.014567</td><td>1.45747</td><td>0.0728736</td><td>2.22433</td><td>0.111217</td><td>3.49623</td><td>0.174812</td><td>6.11505</td><td>0.305752</td><td>10.5682</td><td>0.528409</td><td>14.9279</td><td>0.746397</td></tr>\n",
       "<tr><td>3</td><td>4.17638</td><td>0.208819</td><td>13.9316</td><td>0.696578</td><td>15.8489</td><td>0.792447</td><td>2.39883</td><td>0.119942</td><td>0.29134</td><td>0.014567</td><td>1.45747</td><td>0.0728736</td><td>2.22433</td><td>0.111217</td><td>3.49623</td><td>0.174812</td><td>6.11505</td><td>0.305752</td><td>10.5682</td><td>0.528409</td><td>14.9279</td><td>0.746397</td></tr>\n",
       "<tr><td>4</td><td>11.2928</td><td>0.564638</td><td>16.2032</td><td>0.810159</td><td>15.8489</td><td>0.792447</td><td>7.68422</td><td>0.384211</td><td>5.01649</td><td>0.250825</td><td>6.48634</td><td>0.324317</td><td>6.8612</td><td>0.34306</td><td>8.86339</td><td>0.44317</td><td>14.0217</td><td>0.701084</td><td>16.248</td><td>0.8124</td><td>16.2181</td><td>0.810905</td></tr>\n",
       "<tr><td>5</td><td>7.23103</td><td>0.361551</td><td>6.29216</td><td>0.314608</td><td>6.30957</td><td>0.315479</td><td>5.6079</td><td>0.280395</td><td>0.175227</td><td>0.00876133</td><td>0.206633</td><td>0.0103317</td><td>2.71144</td><td>0.135572</td><td>7.08598</td><td>0.354299</td><td>6.86752</td><td>0.343376</td><td>6.46845</td><td>0.323422</td><td>6.36796</td><td>0.318398</td></tr>\n",
       "<tr><td>6</td><td>7.23103</td><td>0.361551</td><td>6.29216</td><td>0.314608</td><td>6.30957</td><td>0.315479</td><td>5.6079</td><td>0.280395</td><td>0.175227</td><td>0.00876133</td><td>0.206633</td><td>0.0103317</td><td>2.71144</td><td>0.135572</td><td>7.08598</td><td>0.354299</td><td>6.86752</td><td>0.343376</td><td>6.46845</td><td>0.323422</td><td>6.36796</td><td>0.318398</td></tr>\n",
       "<tr><td>7</td><td>7.23103</td><td>0.361551</td><td>6.29216</td><td>0.314608</td><td>6.30957</td><td>0.315479</td><td>5.6079</td><td>0.280395</td><td>0.175227</td><td>0.00876133</td><td>0.206633</td><td>0.0103317</td><td>2.71144</td><td>0.135572</td><td>7.08598</td><td>0.354299</td><td>6.86752</td><td>0.343376</td><td>6.46845</td><td>0.323422</td><td>6.36796</td><td>0.318398</td></tr>\n",
       "</table></div>"
      ],
      "text/plain": [
       "<Table length=7>\n",
       "  id    F309    E309     F310    E310   ...   F204    E204     F205    E205  \n",
       "int64 float64 float64  float64 float64  ... float64 float64  float64 float64 \n",
       "----- ------- -------- ------- -------- ... ------- -------- ------- --------\n",
       "    1 4.17638 0.208819 13.9316 0.696578 ... 10.5682 0.528409 14.9279 0.746397\n",
       "    2 4.17638 0.208819 13.9316 0.696578 ... 10.5682 0.528409 14.9279 0.746397\n",
       "    3 4.17638 0.208819 13.9316 0.696578 ... 10.5682 0.528409 14.9279 0.746397\n",
       "    4 11.2928 0.564638 16.2032 0.810159 ...  16.248   0.8124 16.2181 0.810905\n",
       "    5 7.23103 0.361551 6.29216 0.314608 ... 6.46845 0.323422 6.36796 0.318398\n",
       "    6 7.23103 0.361551 6.29216 0.314608 ... 6.46845 0.323422 6.36796 0.318398\n",
       "    7 7.23103 0.361551 6.29216 0.314608 ... 6.46845 0.323422 6.36796 0.318398"
      ]
     },
     "execution_count": 10,
     "metadata": {},
     "output_type": "execute_result"
    }
   ],
   "source": [
    "# Open broadband flux catalog from Notebook 01a;\n",
    "\n",
    "# Flux are already in Fnu, with magzp = 25.0;\n",
    "file = DIR_OUT + 'l3_nis_flux.cat'\n",
    "\n",
    "fd_cat = ascii.read(file)\n",
    "id_cat = fd_cat['id']\n",
    "magzp = 25.0\n",
    "\n",
    "fd_cat"
   ]
  },
  {
   "cell_type": "code",
   "execution_count": 11,
   "metadata": {
    "execution": {
     "iopub.execute_input": "2025-07-11T17:59:30.130365Z",
     "iopub.status.busy": "2025-07-11T17:59:30.130059Z",
     "iopub.status.idle": "2025-07-11T17:59:30.598082Z",
     "shell.execute_reply": "2025-07-11T17:59:30.597634Z"
    }
   },
   "outputs": [],
   "source": [
    "# Retrieve filter curves for NIRISS images;\n",
    "url = 'https://jwst-docs.stsci.edu/files/154684746/154684750/1/1715090894825/niriss_filter_tarball.tar'\n",
    "\n",
    "filename = 'tmp.tar.gz'\n",
    "urlretrieve(url, filename)\n",
    "my_tar = tarfile.open(filename)\n",
    "my_tar.extractall('./', filter='data') # add filter='data' to skip absolute (/) or relative (..) paths"
   ]
  },
  {
   "cell_type": "code",
   "execution_count": 12,
   "metadata": {
    "execution": {
     "iopub.execute_input": "2025-07-11T17:59:30.599801Z",
     "iopub.status.busy": "2025-07-11T17:59:30.599649Z",
     "iopub.status.idle": "2025-07-11T17:59:30.673168Z",
     "shell.execute_reply": "2025-07-11T17:59:30.672635Z"
    }
   },
   "outputs": [
    {
     "name": "stdout",
     "output_type": "stream",
     "text": [
      "Wavelength FilterTrans     PCE    \n",
      "---------- ----------- -----------\n",
      "       0.5         0.0         0.0\n",
      "     0.501         0.0         0.0\n",
      "     0.502         0.0         0.0\n",
      "     0.503         0.0         0.0\n",
      "     0.504         0.0         0.0\n",
      "     0.505         0.0         0.0\n",
      "     0.506         0.0         0.0\n",
      "     0.507         0.0         0.0\n",
      "     0.508         0.0         0.0\n",
      "     0.509         0.0         0.0\n",
      "       ...         ...         ...\n",
      "     5.491 1.15901e-06 5.88441e-08\n",
      "     5.492 1.17562e-06  5.8551e-08\n",
      "     5.493 1.19224e-06 5.82397e-08\n",
      "     5.494 1.20426e-06  5.7781e-08\n",
      "     5.495 1.21578e-06 5.72767e-08\n",
      "     5.496  1.2271e-06 5.68508e-08\n",
      "     5.497 1.23762e-06 5.63651e-08\n",
      "     5.498 1.24814e-06 5.58675e-08\n",
      "     5.499         0.0         0.0\n",
      "       5.5         0.0         0.0\n",
      "Length = 5001 rows\n"
     ]
    },
    {
     "data": {
      "text/plain": [
       "<matplotlib.legend.Legend at 0x7fabb6a17810>"
      ]
     },
     "execution_count": 12,
     "metadata": {},
     "output_type": "execute_result"
    },
    {
     "data": {
      "image/png": "[encoded data removed]",
      "text/plain": [
       "<Figure size 512x384 with 1 Axes>"
      ]
     },
     "metadata": {},
     "output_type": "display_data"
    }
   ],
   "source": [
    "# Load fiter response:\n",
    "DIR_FIL = './niriss_filter_tarball/DATA/'\n",
    "\n",
    "# The number corresponds to F200W in EAZY filter response;\n",
    "eazy_filt = 311\n",
    "\n",
    "# Read transmission data;\n",
    "filt_data = ascii.read(f'{DIR_FIL}/NIRISS_{filt.upper()}.txt')\n",
    "\n",
    "print(filt_data)\n",
    "wave_filt = filt_data['Wavelength']\n",
    "flux_filt = filt_data['FilterTrans']\n",
    "\n",
    "plt.plot(wave_filt, flux_filt, ls='-', label=f'NIRISS {filt.upper()}')\n",
    "plt.xlabel('wavelength')\n",
    "plt.ylabel('response')\n",
    "plt.legend(loc=1)"
   ]
  },
  {
   "cell_type": "code",
   "execution_count": 13,
   "metadata": {
    "execution": {
     "iopub.execute_input": "2025-07-11T17:59:30.674815Z",
     "iopub.status.busy": "2025-07-11T17:59:30.674649Z",
     "iopub.status.idle": "2025-07-11T17:59:30.679252Z",
     "shell.execute_reply": "2025-07-11T17:59:30.678853Z"
    }
   },
   "outputs": [],
   "source": [
    "# Define a small function for flux convolution with filters;\n",
    "def filconv(lfil, ffil, l0, f0, DIR='', c=3e18):\n",
    "    '''\n",
    "    lfil : Wave array for filter response curve.\n",
    "    ffil : Flux array for filter response curve.\n",
    "\n",
    "    l0 : Wave array for spectrum, in f_nu, not f_lam\n",
    "    f0 : Flux array for spectrum, in f_nu, not f_lam\n",
    "\n",
    "    '''\n",
    "\n",
    "    fhalf = np.max(ffil)/2.0\n",
    "    con = (ffil > fhalf)\n",
    "    lfwhml = np.min(lfil[con])\n",
    "    lfwhmr = np.max(lfil[con])\n",
    "    lcen = (lfwhmr + lfwhml)/2.\n",
    "\n",
    "    lamS, spec = l0, f0  # Two columns with wavelength and flux density\n",
    "    lamF, filt = lfil, ffil  # Two columns with wavelength and response in the range [0,1]\n",
    "    filt_int = np.interp(lamS, lamF, filt)  # Interpolate Filter to common(spectra) wavelength axis\n",
    "\n",
    "    if len(lamS) > 0:\n",
    "        I1 = simpson(spec / lamS**2 * c * filt_int * lamS, x=lamS)  # Denominator for Fnu\n",
    "        I2 = simpson(filt_int/lamS, x=lamS) # Numerator\n",
    "        fnu = I1/I2/c # Average flux density\n",
    "    else:\n",
    "        I1 = 0\n",
    "        I2 = 0\n",
    "        fnu = 0\n",
    "\n",
    "    return lcen, fnu"
   ]
  },
  {
   "cell_type": "code",
   "execution_count": 14,
   "metadata": {
    "execution": {
     "iopub.execute_input": "2025-07-11T17:59:30.680828Z",
     "iopub.status.busy": "2025-07-11T17:59:30.680437Z",
     "iopub.status.idle": "2025-07-11T17:59:30.684258Z",
     "shell.execute_reply": "2025-07-11T17:59:30.683795Z"
    }
   },
   "outputs": [
    {
     "name": "stdout",
     "output_type": "stream",
     "text": [
      "Central wavelength and total flux are ; 1.9885 15.889336490855992\n"
     ]
    }
   ],
   "source": [
    "# Convolve observed spectrum with the filter response.\n",
    "# The input flux need to be in Fnu with magzp=25;\n",
    "\n",
    "# Cut edge of observed flux;\n",
    "con = (wave > 1.75) & (wave < 2.25)\n",
    "lcen, fnu = filconv(wave_filt, flux_filt, wave[con], flux_combine[con], DIR='./')\n",
    "print('Central wavelength and total flux are ;', lcen, fnu)"
   ]
  },
  {
   "cell_type": "code",
   "execution_count": 15,
   "metadata": {
    "execution": {
     "iopub.execute_input": "2025-07-11T17:59:30.685684Z",
     "iopub.status.busy": "2025-07-11T17:59:30.685525Z",
     "iopub.status.idle": "2025-07-11T17:59:30.689622Z",
     "shell.execute_reply": "2025-07-11T17:59:30.689183Z"
    }
   },
   "outputs": [
    {
     "data": {
      "text/html": [
       "&lt;Column name=&apos;F311&apos; dtype=&apos;float64&apos; length=1&gt;\n",
       "<table>\n",
       "<tr><td>0.997455117721293</td></tr>\n",
       "</table>"
      ],
      "text/plain": [
       "<Column name='F311' dtype='float64' length=1>\n",
       "0.997455117721293"
      ]
     },
     "execution_count": 15,
     "metadata": {},
     "output_type": "execute_result"
    }
   ],
   "source": [
    "# Get normalization factor;\n",
    "iix = np.where(id_cat[:] == int(id))\n",
    "Cnorm = fd_cat[f'F{eazy_filt}'][iix] / fnu \n",
    "Cnorm"
   ]
  },
  {
   "cell_type": "code",
   "execution_count": 16,
   "metadata": {
    "execution": {
     "iopub.execute_input": "2025-07-11T17:59:30.690957Z",
     "iopub.status.busy": "2025-07-11T17:59:30.690803Z",
     "iopub.status.idle": "2025-07-11T17:59:30.706907Z",
     "shell.execute_reply": "2025-07-11T17:59:30.706486Z"
    }
   },
   "outputs": [],
   "source": [
    "# Wirte the normalized spectrum:\n",
    "# Make it into a Spectrum instance.\n",
    "file_1d = f'{DIR_OUT}l3_nis_{filt}_{grism}_s{id}_ndither{dither}_1d_opt.fits'\n",
    "\n",
    "obs = Spectrum(spectral_axis=wave*u.um,\n",
    "               flux=flux_combine * Cnorm * u.dimensionless_unscaled,\n",
    "               uncertainty=StdDevUncertainty(flux_err_combine * Cnorm), unit='')\n",
    "obs.write(file_1d, format='tabular-fits', overwrite=True)"
   ]
  },
  {
   "cell_type": "markdown",
   "metadata": {},
   "source": [
    "### Repeat 1&2 for other filters too;"
   ]
  },
  {
   "cell_type": "code",
   "execution_count": 17,
   "metadata": {
    "execution": {
     "iopub.execute_input": "2025-07-11T17:59:30.708552Z",
     "iopub.status.busy": "2025-07-11T17:59:30.708217Z",
     "iopub.status.idle": "2025-07-11T17:59:30.783927Z",
     "shell.execute_reply": "2025-07-11T17:59:30.783442Z"
    }
   },
   "outputs": [],
   "source": [
    "DIR_FIL = './niriss_filter_tarball/DATA/'\n",
    "filts = ['f115w', 'f150w', 'f200w']\n",
    "# The number corresponds to NIRISS filters in EAZY filter response;\n",
    "eazy_filts = [309, 310, 311]\n",
    "\n",
    "# Masks for problematic flux at edge;\n",
    "mask_lw = [1.05, 1.35, 1.75]\n",
    "mask_uw = [1.25, 1.65, 2.23]\n",
    "\n",
    "for ff, filt in enumerate(filts):\n",
    "    for dither in dithers:\n",
    "        file_1d = f'{DIR_OUT}l3_nis_{filt}_{grism}_s{id}_ndither{dither}_1d_opt.fits'\n",
    "        fd = fits.open(file_1d)[1].data\n",
    "        if dither == 0:\n",
    "            wave = fd['wavelength']\n",
    "            flux = np.zeros((ndither, len(wave)), 'float')\n",
    "            flux_err = np.zeros((ndither, len(wave)), 'float')\n",
    "\n",
    "            flux[dither, :] = fd['flux']\n",
    "            flux_err[dither, :] = fd['uncertainty']\n",
    "        else:\n",
    "            wave_tmp = fd['wavelength']\n",
    "            flux_tmp = fd['flux']\n",
    "            flux_err_tmp = fd['uncertainty']\n",
    "\n",
    "            flux[dither, :] = np.interp(wave, wave_tmp, flux_tmp)\n",
    "            flux_err[dither, :] = np.sqrt(np.interp(wave, wave_tmp, flux_err_tmp[:]**2))\n",
    "\n",
    "    # Combine;\n",
    "    flux_combine = np.zeros(len(wave), 'float')\n",
    "    flux_err_combine = np.zeros(len(wave), 'float')\n",
    "\n",
    "    for ii in range(len(wave)):\n",
    "        flux_combine[ii] = np.sum(flux[:, ii] * 1 / flux_err[:, ii]**2) / np.sum(1 / flux_err[:, ii]**2) \n",
    "        flux_err_combine[ii] = np.sqrt(np.sum(flux_err[:, ii]**2)) / len(flux_err[:, ii])\n",
    "\n",
    "    # Normalize;\n",
    "    filt_data = ascii.read(f'{DIR_FIL}/NIRISS_{filt.upper()}.txt')\n",
    "    wave_filt = filt_data['Wavelength']\n",
    "    flux_filt = filt_data['FilterTrans']\n",
    "\n",
    "    con = (wave > mask_lw[ff]) & (wave < mask_uw[ff])\n",
    "    lcen, fnu = filconv(wave_filt, flux_filt, wave[con], flux_combine[con])\n",
    "    iix = np.where(id_cat[:] == int(id))\n",
    "    Cnorm = fd_cat[f'F{eazy_filts[ff]}'][iix] / fnu\n",
    "\n",
    "    # Write:\n",
    "    file_1d = f'{DIR_OUT}l3_nis_{filt}_{grism}_s{id}_combine_1d_opt.fits' \n",
    "    \n",
    "    obs = Spectrum(spectral_axis=wave*u.um,\n",
    "                   flux=flux_combine * Cnorm * u.dimensionless_unscaled,\n",
    "                   uncertainty=StdDevUncertainty(flux_err_combine * Cnorm), unit='')\n",
    "    obs.write(file_1d, format='tabular-fits', overwrite=True)"
   ]
  },
  {
   "cell_type": "markdown",
   "metadata": {},
   "source": [
    "### Results;\n",
    "The spectra are align with each other, as they are matched to BB photometry."
   ]
  },
  {
   "cell_type": "code",
   "execution_count": 18,
   "metadata": {
    "execution": {
     "iopub.execute_input": "2025-07-11T17:59:30.785949Z",
     "iopub.status.busy": "2025-07-11T17:59:30.785623Z",
     "iopub.status.idle": "2025-07-11T17:59:30.912991Z",
     "shell.execute_reply": "2025-07-11T17:59:30.912533Z"
    }
   },
   "outputs": [
    {
     "data": {
      "text/plain": [
       "<matplotlib.legend.Legend at 0x7fabb69bb310>"
      ]
     },
     "execution_count": 18,
     "metadata": {},
     "output_type": "execute_result"
    },
    {
     "data": {
      "image/png": "[encoded data removed]",
      "text/plain": [
       "<Figure size 512x384 with 1 Axes>"
      ]
     },
     "metadata": {},
     "output_type": "display_data"
    }
   ],
   "source": [
    "filts = ['f115w', 'f150w', 'f200w']\n",
    "cols = ['lightblue', 'orange', 'purple']\n",
    "\n",
    "for ff, filt in enumerate(filts):\n",
    "    file_1d = f'{DIR_OUT}l3_nis_{filt}_{grism}_s{id}_combine_1d_opt.fits' \n",
    "    fd = fits.open(file_1d)[1].data\n",
    "    wave = fd['wavelength']\n",
    "    flux = fd['flux']\n",
    "    flux_err = fd['uncertainty']\n",
    "\n",
    "    con = (wave > mask_lw[ff]) & (wave < mask_uw[ff])\n",
    "    plt.plot(wave[con], flux[con], ls='-', label=f'{grism} {filts[ff]}', color=cols[ff])\n",
    "\n",
    "    filt_data = ascii.read(f'{DIR_FIL}/NIRISS_{filt.upper()}.txt')\n",
    "    wave_filt = filt_data['Wavelength']\n",
    "    flux_filt = filt_data['FilterTrans']\n",
    "\n",
    "    con = (wave > mask_lw[ff]) & (wave < mask_uw[ff])\n",
    "    lcen, fnu = filconv(wave_filt, flux_filt, wave[con], flux[con])\n",
    "    iix = np.where(id_cat[:] == int(id))\n",
    "    plt.scatter(lcen, fd_cat[f'F{eazy_filts[ff]}'][iix], marker='s', s=50, edgecolor='k', color=cols[ff], label=f'BB {filts[ff]}')\n",
    "\n",
    "\n",
    "plt.xlabel('wavelength')\n",
    "plt.ylabel('flux')\n",
    "plt.ylim(0, 60)\n",
    "plt.legend(loc=0)"
   ]
  },
  {
   "cell_type": "markdown",
   "metadata": {},
   "source": [
    "### Repeat for another target;"
   ]
  },
  {
   "cell_type": "code",
   "execution_count": 19,
   "metadata": {
    "execution": {
     "iopub.execute_input": "2025-07-11T17:59:30.914606Z",
     "iopub.status.busy": "2025-07-11T17:59:30.914431Z",
     "iopub.status.idle": "2025-07-11T17:59:30.989236Z",
     "shell.execute_reply": "2025-07-11T17:59:30.988772Z"
    }
   },
   "outputs": [],
   "source": [
    "id = '00003'\n",
    "\n",
    "filts = ['f115w', 'f150w', 'f200w']\n",
    "eazy_filts = [309, 310, 311]\n",
    "DIR_FIL = './niriss_filter_tarball/DATA/'\n",
    "\n",
    "# Masks for problematic flux at edge;\n",
    "mask_lw = [1.05, 1.35, 1.75]\n",
    "mask_uw = [1.25, 1.65, 2.23]\n",
    "\n",
    "for ff, filt in enumerate(filts):\n",
    "        \n",
    "    for dither in dithers:\n",
    "        file_1d = f'{DIR_OUT}l3_nis_{filt}_{grism}_s{id}_ndither{dither}_1d_opt.fits'\n",
    "        fd = fits.open(file_1d)[1].data\n",
    "        if dither == 0:\n",
    "            wave = fd['wavelength']\n",
    "            flux = np.zeros((ndither, len(wave)), 'float')\n",
    "            flux_err = np.zeros((ndither, len(wave)), 'float')\n",
    "\n",
    "            flux[dither, :] = fd['flux']\n",
    "            flux_err[dither, :] = fd['uncertainty']\n",
    "        else:\n",
    "            wave_tmp = fd['wavelength']\n",
    "            flux_tmp = fd['flux']\n",
    "            flux_err_tmp = fd['uncertainty']\n",
    "\n",
    "            flux[dither, :] = np.interp(wave, wave_tmp, flux_tmp)\n",
    "            flux_err[dither, :] = np.sqrt(np.interp(wave, wave_tmp, flux_err_tmp[:]**2))\n",
    "\n",
    "    # Combine;\n",
    "    flux_combine = np.zeros(len(wave), 'float')\n",
    "    flux_err_combine = np.zeros(len(wave), 'float')\n",
    "\n",
    "    for ii in range(len(wave)):\n",
    "        flux_combine[ii] = np.sum(flux[:, ii] * 1 / flux_err[:, ii]**2) / np.sum(1 / flux_err[:, ii]**2) \n",
    "        flux_err_combine[ii] = np.sqrt(np.sum(flux_err[:, ii]**2)) / len(flux_err[:, ii])\n",
    "\n",
    "    # Normalize;\n",
    "    filt_data = ascii.read(f'{DIR_FIL}/NIRISS_{filt.upper()}.txt')\n",
    "    wave_filt = filt_data['Wavelength']\n",
    "    flux_filt = filt_data['FilterTrans']\n",
    "\n",
    "    con = (wave > mask_lw[ff]) & (wave < mask_uw[ff])\n",
    "    lcen, fnu = filconv(wave_filt, flux_filt, wave[con], flux_combine[con])\n",
    "    iix = np.where(id_cat[:] == int(id))\n",
    "    Cnorm = fd_cat[f'F{eazy_filts[ff]}'][iix] / fnu\n",
    "        \n",
    "    # Write:\n",
    "    file_1d = f'{DIR_OUT}l3_nis_{filt}_{grism}_s{id}_combine_1d_opt.fits'\n",
    "    obs = Spectrum(spectral_axis=wave*u.um,\n",
    "                   flux=flux_combine * Cnorm * u.dimensionless_unscaled,\n",
    "                   uncertainty=StdDevUncertainty(flux_err_combine * Cnorm), unit='')\n",
    "    obs.write(file_1d, format='tabular-fits', overwrite=True)"
   ]
  },
  {
   "cell_type": "code",
   "execution_count": 20,
   "metadata": {
    "execution": {
     "iopub.execute_input": "2025-07-11T17:59:30.990979Z",
     "iopub.status.busy": "2025-07-11T17:59:30.990824Z",
     "iopub.status.idle": "2025-07-11T17:59:31.115774Z",
     "shell.execute_reply": "2025-07-11T17:59:31.115230Z"
    }
   },
   "outputs": [
    {
     "data": {
      "text/plain": [
       "<matplotlib.legend.Legend at 0x7fabb671efd0>"
      ]
     },
     "execution_count": 20,
     "metadata": {},
     "output_type": "execute_result"
    },
    {
     "data": {
      "image/png": "[encoded data removed]",
      "text/plain": [
       "<Figure size 512x384 with 1 Axes>"
      ]
     },
     "metadata": {},
     "output_type": "display_data"
    }
   ],
   "source": [
    "filts = ['f115w', 'f150w', 'f200w']\n",
    "cols = ['lightblue', 'orange', 'purple']\n",
    "\n",
    "for ff, filt in enumerate(filts):\n",
    "    file_1d = f'{DIR_OUT}l3_nis_{filt}_{grism}_s{id}_combine_1d_opt.fits' \n",
    "    fd = fits.open(file_1d)[1].data\n",
    "    wave = fd['wavelength']\n",
    "    flux = fd['flux']\n",
    "    flux_err = fd['uncertainty']\n",
    "\n",
    "    con = (wave > mask_lw[ff]) & (wave < mask_uw[ff])\n",
    "    plt.plot(wave[con], flux[con], ls='-', label=f'{grism} {filts[ff]}', color=cols[ff])\n",
    "\n",
    "    filt_data = ascii.read(f'{DIR_FIL}/NIRISS_{filt.upper()}.txt')\n",
    "    wave_filt = filt_data['Wavelength']\n",
    "    flux_filt = filt_data['FilterTrans']\n",
    "\n",
    "    con = (wave > mask_lw[ff]) & (wave < mask_uw[ff])\n",
    "    lcen, fnu = filconv(wave_filt, flux_filt, wave[con], flux[con])\n",
    "    iix = np.where(id_cat[:] == int(id))\n",
    "    plt.scatter(lcen, fd_cat[f'F{eazy_filts[ff]}'][iix], marker='s', s=50, edgecolor='k', color=cols[ff], label=f'BB {filts[ff]}')\n",
    "\n",
    "plt.xlabel('wavelength')\n",
    "plt.ylabel('flux')\n",
    "plt.ylim(0, 60)\n",
    "plt.legend(loc=0)"
   ]
  }
 ],
 "metadata": {
  "kernelspec": {
   "display_name": "Python 3 (ipykernel)",
   "language": "python",
   "name": "python3"
  },
  "language_info": {
   "codemirror_mode": {
    "name": "ipython",
    "version": 3
   },
   "file_extension": ".py",
   "mimetype": "text/x-python",
   "name": "python",
   "nbconvert_exporter": "python",
   "pygments_lexer": "ipython3",
   "version": "3.11.13"
  }
 },
 "nbformat": 4,
 "nbformat_minor": 4
}
